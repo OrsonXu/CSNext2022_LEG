{
  "nbformat": 4,
  "nbformat_minor": 0,
  "metadata": {
    "colab": {
      "name": "csnext-legmove",
      "provenance": [],
      "include_colab_link": true
    },
    "kernelspec": {
      "name": "python3",
      "display_name": "Python 3"
    },
    "language_info": {
      "name": "python"
    }
  },
  "cells": [
    {
      "cell_type": "markdown",
      "metadata": {
        "id": "view-in-github",
        "colab_type": "text"
      },
      "source": [
        "<a href=\"https://colab.research.google.com/github/OrsonXu/CSNext2022_LEG/blob/main/csnext_legmove.ipynb\" target=\"_parent\"><img src=\"https://colab.research.google.com/assets/colab-badge.svg\" alt=\"Open In Colab\"/></a>"
      ]
    },
    {
      "cell_type": "code",
      "source": [
        "import pandas as pd\n",
        "from sklearn.preprocessing import RobustScaler\n",
        "from keras.models import Sequential\n",
        "from keras.layers import Dense, Conv1D, Dropout, MaxPooling1D, Flatten\n",
        "from scipy import stats\n",
        "import numpy as np\n",
        "import tensorflow as tf\n",
        "from tensorflow import keras\n",
        "import seaborn as sns\n"
      ],
      "metadata": {
        "id": "eRqjSTL6Kz1p"
      },
      "execution_count": 17,
      "outputs": []
    },
    {
      "cell_type": "code",
      "execution_count": 15,
      "metadata": {
        "colab": {
          "base_uri": "https://localhost:8080/",
          "height": 453
        },
        "id": "7dm_Rl7RtrM7",
        "outputId": "48767084-3d6b-490b-aa6d-aad8c2ad989c"
      },
      "outputs": [
        {
          "output_type": "stream",
          "name": "stdout",
          "text": [
            "8 files read!\n",
            "(5835, 7)\n"
          ]
        },
        {
          "output_type": "execute_result",
          "data": {
            "text/plain": [
              "         timestamp  linearacc_x  linearacc_y  linearacc_z    label  user_id  \\\n",
              "57   1650944683689    -0.964006     1.043366    -1.868314    noise        1   \n",
              "235  1650944563155    -0.311301    -1.592262     0.790868  shaking        1   \n",
              "335  1650944637073     0.022619     0.021746    -0.043715    noise        1   \n",
              "92   1650944684273     4.347627    -1.443706     0.567434    noise        1   \n",
              "185  1650944591322     2.132645    -4.241833     1.856893  shaking        1   \n",
              "..             ...          ...          ...          ...      ...      ...   \n",
              "571  1650944661756     0.019331     0.054645    -0.078251    noise        1   \n",
              "151  1650944634006     0.025495     0.006613    -0.077078    noise        1   \n",
              "221  1650944671174     0.197019     0.259100    -0.126654    noise        1   \n",
              "92   1650944653772     0.014831     0.108275    -0.203812    noise        1   \n",
              "626  1650944569671    -0.945801    -3.292960     1.062905  shaking        1   \n",
              "\n",
              "     linearacc_xyz  \n",
              "57        2.347023  \n",
              "235       1.804904  \n",
              "335       0.053810  \n",
              "92        4.616073  \n",
              "185       5.097977  \n",
              "..             ...  \n",
              "571       0.097381  \n",
              "151       0.081454  \n",
              "221       0.349271  \n",
              "92        0.231264  \n",
              "626       3.587184  \n",
              "\n",
              "[292 rows x 7 columns]"
            ],
            "text/html": [
              "\n",
              "  <div id=\"df-52e58da9-19d7-48f6-9d4f-7a05f45f5a6a\">\n",
              "    <div class=\"colab-df-container\">\n",
              "      <div>\n",
              "<style scoped>\n",
              "    .dataframe tbody tr th:only-of-type {\n",
              "        vertical-align: middle;\n",
              "    }\n",
              "\n",
              "    .dataframe tbody tr th {\n",
              "        vertical-align: top;\n",
              "    }\n",
              "\n",
              "    .dataframe thead th {\n",
              "        text-align: right;\n",
              "    }\n",
              "</style>\n",
              "<table border=\"1\" class=\"dataframe\">\n",
              "  <thead>\n",
              "    <tr style=\"text-align: right;\">\n",
              "      <th></th>\n",
              "      <th>timestamp</th>\n",
              "      <th>linearacc_x</th>\n",
              "      <th>linearacc_y</th>\n",
              "      <th>linearacc_z</th>\n",
              "      <th>label</th>\n",
              "      <th>user_id</th>\n",
              "      <th>linearacc_xyz</th>\n",
              "    </tr>\n",
              "  </thead>\n",
              "  <tbody>\n",
              "    <tr>\n",
              "      <th>57</th>\n",
              "      <td>1650944683689</td>\n",
              "      <td>-0.964006</td>\n",
              "      <td>1.043366</td>\n",
              "      <td>-1.868314</td>\n",
              "      <td>noise</td>\n",
              "      <td>1</td>\n",
              "      <td>2.347023</td>\n",
              "    </tr>\n",
              "    <tr>\n",
              "      <th>235</th>\n",
              "      <td>1650944563155</td>\n",
              "      <td>-0.311301</td>\n",
              "      <td>-1.592262</td>\n",
              "      <td>0.790868</td>\n",
              "      <td>shaking</td>\n",
              "      <td>1</td>\n",
              "      <td>1.804904</td>\n",
              "    </tr>\n",
              "    <tr>\n",
              "      <th>335</th>\n",
              "      <td>1650944637073</td>\n",
              "      <td>0.022619</td>\n",
              "      <td>0.021746</td>\n",
              "      <td>-0.043715</td>\n",
              "      <td>noise</td>\n",
              "      <td>1</td>\n",
              "      <td>0.053810</td>\n",
              "    </tr>\n",
              "    <tr>\n",
              "      <th>92</th>\n",
              "      <td>1650944684273</td>\n",
              "      <td>4.347627</td>\n",
              "      <td>-1.443706</td>\n",
              "      <td>0.567434</td>\n",
              "      <td>noise</td>\n",
              "      <td>1</td>\n",
              "      <td>4.616073</td>\n",
              "    </tr>\n",
              "    <tr>\n",
              "      <th>185</th>\n",
              "      <td>1650944591322</td>\n",
              "      <td>2.132645</td>\n",
              "      <td>-4.241833</td>\n",
              "      <td>1.856893</td>\n",
              "      <td>shaking</td>\n",
              "      <td>1</td>\n",
              "      <td>5.097977</td>\n",
              "    </tr>\n",
              "    <tr>\n",
              "      <th>...</th>\n",
              "      <td>...</td>\n",
              "      <td>...</td>\n",
              "      <td>...</td>\n",
              "      <td>...</td>\n",
              "      <td>...</td>\n",
              "      <td>...</td>\n",
              "      <td>...</td>\n",
              "    </tr>\n",
              "    <tr>\n",
              "      <th>571</th>\n",
              "      <td>1650944661756</td>\n",
              "      <td>0.019331</td>\n",
              "      <td>0.054645</td>\n",
              "      <td>-0.078251</td>\n",
              "      <td>noise</td>\n",
              "      <td>1</td>\n",
              "      <td>0.097381</td>\n",
              "    </tr>\n",
              "    <tr>\n",
              "      <th>151</th>\n",
              "      <td>1650944634006</td>\n",
              "      <td>0.025495</td>\n",
              "      <td>0.006613</td>\n",
              "      <td>-0.077078</td>\n",
              "      <td>noise</td>\n",
              "      <td>1</td>\n",
              "      <td>0.081454</td>\n",
              "    </tr>\n",
              "    <tr>\n",
              "      <th>221</th>\n",
              "      <td>1650944671174</td>\n",
              "      <td>0.197019</td>\n",
              "      <td>0.259100</td>\n",
              "      <td>-0.126654</td>\n",
              "      <td>noise</td>\n",
              "      <td>1</td>\n",
              "      <td>0.349271</td>\n",
              "    </tr>\n",
              "    <tr>\n",
              "      <th>92</th>\n",
              "      <td>1650944653772</td>\n",
              "      <td>0.014831</td>\n",
              "      <td>0.108275</td>\n",
              "      <td>-0.203812</td>\n",
              "      <td>noise</td>\n",
              "      <td>1</td>\n",
              "      <td>0.231264</td>\n",
              "    </tr>\n",
              "    <tr>\n",
              "      <th>626</th>\n",
              "      <td>1650944569671</td>\n",
              "      <td>-0.945801</td>\n",
              "      <td>-3.292960</td>\n",
              "      <td>1.062905</td>\n",
              "      <td>shaking</td>\n",
              "      <td>1</td>\n",
              "      <td>3.587184</td>\n",
              "    </tr>\n",
              "  </tbody>\n",
              "</table>\n",
              "<p>292 rows × 7 columns</p>\n",
              "</div>\n",
              "      <button class=\"colab-df-convert\" onclick=\"convertToInteractive('df-52e58da9-19d7-48f6-9d4f-7a05f45f5a6a')\"\n",
              "              title=\"Convert this dataframe to an interactive table.\"\n",
              "              style=\"display:none;\">\n",
              "        \n",
              "  <svg xmlns=\"http://www.w3.org/2000/svg\" height=\"24px\"viewBox=\"0 0 24 24\"\n",
              "       width=\"24px\">\n",
              "    <path d=\"M0 0h24v24H0V0z\" fill=\"none\"/>\n",
              "    <path d=\"M18.56 5.44l.94 2.06.94-2.06 2.06-.94-2.06-.94-.94-2.06-.94 2.06-2.06.94zm-11 1L8.5 8.5l.94-2.06 2.06-.94-2.06-.94L8.5 2.5l-.94 2.06-2.06.94zm10 10l.94 2.06.94-2.06 2.06-.94-2.06-.94-.94-2.06-.94 2.06-2.06.94z\"/><path d=\"M17.41 7.96l-1.37-1.37c-.4-.4-.92-.59-1.43-.59-.52 0-1.04.2-1.43.59L10.3 9.45l-7.72 7.72c-.78.78-.78 2.05 0 2.83L4 21.41c.39.39.9.59 1.41.59.51 0 1.02-.2 1.41-.59l7.78-7.78 2.81-2.81c.8-.78.8-2.07 0-2.86zM5.41 20L4 18.59l7.72-7.72 1.47 1.35L5.41 20z\"/>\n",
              "  </svg>\n",
              "      </button>\n",
              "      \n",
              "  <style>\n",
              "    .colab-df-container {\n",
              "      display:flex;\n",
              "      flex-wrap:wrap;\n",
              "      gap: 12px;\n",
              "    }\n",
              "\n",
              "    .colab-df-convert {\n",
              "      background-color: #E8F0FE;\n",
              "      border: none;\n",
              "      border-radius: 50%;\n",
              "      cursor: pointer;\n",
              "      display: none;\n",
              "      fill: #1967D2;\n",
              "      height: 32px;\n",
              "      padding: 0 0 0 0;\n",
              "      width: 32px;\n",
              "    }\n",
              "\n",
              "    .colab-df-convert:hover {\n",
              "      background-color: #E2EBFA;\n",
              "      box-shadow: 0px 1px 2px rgba(60, 64, 67, 0.3), 0px 1px 3px 1px rgba(60, 64, 67, 0.15);\n",
              "      fill: #174EA6;\n",
              "    }\n",
              "\n",
              "    [theme=dark] .colab-df-convert {\n",
              "      background-color: #3B4455;\n",
              "      fill: #D2E3FC;\n",
              "    }\n",
              "\n",
              "    [theme=dark] .colab-df-convert:hover {\n",
              "      background-color: #434B5C;\n",
              "      box-shadow: 0px 1px 3px 1px rgba(0, 0, 0, 0.15);\n",
              "      filter: drop-shadow(0px 1px 2px rgba(0, 0, 0, 0.3));\n",
              "      fill: #FFFFFF;\n",
              "    }\n",
              "  </style>\n",
              "\n",
              "      <script>\n",
              "        const buttonEl =\n",
              "          document.querySelector('#df-52e58da9-19d7-48f6-9d4f-7a05f45f5a6a button.colab-df-convert');\n",
              "        buttonEl.style.display =\n",
              "          google.colab.kernel.accessAllowed ? 'block' : 'none';\n",
              "\n",
              "        async function convertToInteractive(key) {\n",
              "          const element = document.querySelector('#df-52e58da9-19d7-48f6-9d4f-7a05f45f5a6a');\n",
              "          const dataTable =\n",
              "            await google.colab.kernel.invokeFunction('convertToInteractive',\n",
              "                                                     [key], {});\n",
              "          if (!dataTable) return;\n",
              "\n",
              "          const docLinkHtml = 'Like what you see? Visit the ' +\n",
              "            '<a target=\"_blank\" href=https://colab.research.google.com/notebooks/data_table.ipynb>data table notebook</a>'\n",
              "            + ' to learn more about interactive tables.';\n",
              "          element.innerHTML = '';\n",
              "          dataTable['output_type'] = 'display_data';\n",
              "          await google.colab.output.renderOutput(dataTable, element);\n",
              "          const docLink = document.createElement('div');\n",
              "          docLink.innerHTML = docLinkHtml;\n",
              "          element.appendChild(docLink);\n",
              "        }\n",
              "      </script>\n",
              "    </div>\n",
              "  </div>\n",
              "  "
            ]
          },
          "metadata": {},
          "execution_count": 15
        }
      ],
      "source": [
        "csvs = []\n",
        "_df   = pd.read_csv('data/NOISE_1_1.csv', names = [('timestamp','linearacc_x','linearacc_y','linearacc_z','gyro_x','gyro_y','gyro_z','batch,interval')])\n",
        "\n",
        "# each user files\n",
        "# filename should be: SHAKING_<num_test>_<user_id>.csv or NOISE_<num_test>_<user_id>.csv\n",
        "for j in range(1):\n",
        "\n",
        "    # read shaking files\n",
        "    for i in range(3):    \n",
        "        _df = pd.read_csv(f'data/SHAKING_{i+1}_{j+1}.csv')\n",
        "        _df = _df.drop(columns=['gyro_x', 'gyro_y', 'gyro_z', 'batch', 'interval'])\n",
        "        _df[\"label\"] = \"shaking\" # add label\n",
        "        _df[\"user_id\"] = j+1\n",
        "        #print(_df.head(3))        \n",
        "        csvs.append(_df)\n",
        "\n",
        "    # read noise files\n",
        "    for i in range(5):\n",
        "        _df = pd.read_csv(f'data/NOISE_{i+1}_{j+1}.csv')\n",
        "        _df = _df.drop(columns=['gyro_x', 'gyro_y', 'gyro_z', 'batch', 'interval'])\n",
        "        _df[\"label\"] = \"noise\" # add label\n",
        "        _df[\"user_id\"] = j+1\n",
        "        # print(_df.head(3))        \n",
        "        csvs.append(_df)\n",
        "\n",
        "print(f\"{len(csvs)} files read!\")\n",
        "\n",
        "# concatenate all csvs in one dataframe\n",
        "df = pd.concat(csvs)\n",
        "df['linearacc_xyz'] = np.sqrt(df['linearacc_x'] ** 2 + df['linearacc_y'] ** 2 + df['linearacc_z'] ** 2 )\n",
        "print(df.shape)\n",
        "df.sample(frac=0.05, replace=True, random_state=1)"
      ]
    },
    {
      "cell_type": "markdown",
      "source": [
        "# Load data"
      ],
      "metadata": {
        "id": "O-GLFaxMuzzO"
      }
    },
    {
      "cell_type": "code",
      "source": [
        "# split data into training and test, 10 users expected\n",
        "# df_train = df[df['user_id'] <= 6]\n",
        "# df_test = df[df['user_id'] > 6]\n",
        "\n",
        "df_train = df[df['user_id'] == 1]\n",
        "df_test = df[df['user_id'] == 1]\n",
        "\n",
        "# scale training data\n",
        "scale_columns = ['linearacc_x', 'linearacc_y', 'linearacc_z']\n",
        "mapping_dict = {'noise': 0, 'shaking': 1}\n",
        "scaler = RobustScaler()\n",
        "scaler = scaler.fit(df_train[scale_columns])\n",
        "\n",
        "df_train.loc[:, scale_columns] = scaler.transform(df_train[scale_columns].to_numpy())\n",
        "df_test.loc[:, scale_columns] = scaler.transform(df_test[scale_columns].to_numpy())\n",
        "\n",
        "# create sequences using windows slicing\n",
        "def create_dataset(X, y, time_steps=1, step=1):\n",
        "    Xs, ys = [], []\n",
        "\n",
        "    for i in range(0, len(X) - time_steps, step):\n",
        "        v = X.iloc[i:(i + time_steps)].values\n",
        "        labels = y.iloc[i: i + time_steps]\n",
        "        Xs.append(v)\n",
        "        ys.append(stats.mode(labels)[0][0])\n",
        "    ys_int = [mapping_dict[y] for y in ys]\n",
        "    ys_vector = keras.utils.to_categorical(ys_int)\n",
        "    return np.array(Xs), ys_vector\n",
        "\n",
        "\n",
        "\n",
        "TIME_STEPS = 90 # window_size\n",
        "STEP = 15\n",
        "\n",
        "X_train, y_train = create_dataset(\n",
        "    df_train[['linearacc_xyz']],\n",
        "    df_train.label,\n",
        "    TIME_STEPS,\n",
        "    STEP\n",
        ")\n",
        "\n",
        "X_test, y_test = create_dataset(\n",
        "    df_test[['linearacc_xyz']],\n",
        "    df_test.label,\n",
        "    TIME_STEPS,\n",
        "    STEP\n",
        ")\n",
        "\n",
        "print(X_train.shape, y_train.shape)\n",
        "#print(X_train,y_train)"
      ],
      "metadata": {
        "colab": {
          "base_uri": "https://localhost:8080/"
        },
        "id": "2ewFI6aYvFhj",
        "outputId": "02238cf9-fac9-49c3-973f-d343e6f31d9e"
      },
      "execution_count": 12,
      "outputs": [
        {
          "output_type": "stream",
          "name": "stderr",
          "text": [
            "/usr/local/lib/python3.7/dist-packages/sklearn/base.py:451: UserWarning: X does not have valid feature names, but RobustScaler was fitted with feature names\n",
            "  \"X does not have valid feature names, but\"\n",
            "/usr/local/lib/python3.7/dist-packages/sklearn/base.py:451: UserWarning: X does not have valid feature names, but RobustScaler was fitted with feature names\n",
            "  \"X does not have valid feature names, but\"\n"
          ]
        },
        {
          "output_type": "stream",
          "name": "stdout",
          "text": [
            "(383, 90, 1) (383, 2)\n"
          ]
        }
      ]
    },
    {
      "cell_type": "code",
      "source": [
        "print(y_train)"
      ],
      "metadata": {
        "id": "TJz-dMuQNbcL"
      },
      "execution_count": null,
      "outputs": []
    },
    {
      "cell_type": "markdown",
      "source": [
        "# **`Model Training `**"
      ],
      "metadata": {
        "id": "l-Tp9YXquMJK"
      }
    },
    {
      "cell_type": "code",
      "source": [
        "# define the keras model \n",
        "model = Sequential()\n",
        "model.add(Conv1D(filters=32, kernel_size=3, activation='relu', input_shape=(90,1)))\n",
        "model.add(Conv1D(filters=32, kernel_size=3, activation='relu'))\n",
        "model.add(Dropout(0.5))\n",
        "model.add(MaxPooling1D(pool_size=2))\n",
        "model.add(Flatten())\n",
        "model.add(Dense(8,activation='relu'))\n",
        "model.add(Dense(2, activation = 'softmax'))\n",
        " # compile the keras model\n",
        "model.compile(loss='categorical_crossentropy', optimizer='adam', metrics=['accuracy'])\n",
        "...\n",
        "\n"
      ],
      "metadata": {
        "id": "8AUnCQhZtmsQ",
        "colab": {
          "base_uri": "https://localhost:8080/"
        },
        "outputId": "71f14afb-fd33-4070-a9ce-e73c5b516bea"
      },
      "execution_count": 21,
      "outputs": [
        {
          "output_type": "execute_result",
          "data": {
            "text/plain": [
              "Ellipsis"
            ]
          },
          "metadata": {},
          "execution_count": 21
        }
      ]
    },
    {
      "cell_type": "code",
      "source": [
        "...\n",
        "# fit the keras model on the dataset\n",
        "model.fit(X_train, y_train, validation_split=0.2, epochs=30, batch_size=10)\n",
        "\n",
        "..."
      ],
      "metadata": {
        "colab": {
          "base_uri": "https://localhost:8080/"
        },
        "id": "16FMdLaWLgNX",
        "outputId": "83464e69-8da9-4925-a16a-f5a034398ab6"
      },
      "execution_count": 22,
      "outputs": [
        {
          "output_type": "stream",
          "name": "stdout",
          "text": [
            "Epoch 1/30\n",
            "31/31 [==============================] - 1s 14ms/step - loss: 0.4098 - accuracy: 0.8301 - val_loss: 3.8969 - val_accuracy: 0.3506\n",
            "Epoch 2/30\n",
            "31/31 [==============================] - 0s 8ms/step - loss: 0.1259 - accuracy: 0.9771 - val_loss: 4.9466 - val_accuracy: 0.4416\n",
            "Epoch 3/30\n",
            "31/31 [==============================] - 0s 6ms/step - loss: 0.0237 - accuracy: 0.9902 - val_loss: 5.8217 - val_accuracy: 0.4416\n",
            "Epoch 4/30\n",
            "31/31 [==============================] - 0s 6ms/step - loss: 0.0094 - accuracy: 1.0000 - val_loss: 6.1092 - val_accuracy: 0.4416\n",
            "Epoch 5/30\n",
            "31/31 [==============================] - 0s 6ms/step - loss: 0.0070 - accuracy: 1.0000 - val_loss: 6.8172 - val_accuracy: 0.4416\n",
            "Epoch 6/30\n",
            "31/31 [==============================] - 0s 6ms/step - loss: 0.0038 - accuracy: 1.0000 - val_loss: 7.2437 - val_accuracy: 0.4416\n",
            "Epoch 7/30\n",
            "31/31 [==============================] - 0s 6ms/step - loss: 0.0075 - accuracy: 0.9935 - val_loss: 7.5613 - val_accuracy: 0.4286\n",
            "Epoch 8/30\n",
            "31/31 [==============================] - 0s 6ms/step - loss: 0.0028 - accuracy: 1.0000 - val_loss: 7.2183 - val_accuracy: 0.4416\n",
            "Epoch 9/30\n",
            "31/31 [==============================] - 0s 6ms/step - loss: 0.0017 - accuracy: 1.0000 - val_loss: 7.4878 - val_accuracy: 0.4416\n",
            "Epoch 10/30\n",
            "31/31 [==============================] - 0s 6ms/step - loss: 0.0015 - accuracy: 1.0000 - val_loss: 7.9441 - val_accuracy: 0.4416\n",
            "Epoch 11/30\n",
            "31/31 [==============================] - 0s 6ms/step - loss: 0.0016 - accuracy: 1.0000 - val_loss: 8.1017 - val_accuracy: 0.4416\n",
            "Epoch 12/30\n",
            "31/31 [==============================] - 0s 6ms/step - loss: 0.0014 - accuracy: 1.0000 - val_loss: 9.2923 - val_accuracy: 0.4156\n",
            "Epoch 13/30\n",
            "31/31 [==============================] - 0s 6ms/step - loss: 0.0016 - accuracy: 1.0000 - val_loss: 8.1241 - val_accuracy: 0.4416\n",
            "Epoch 14/30\n",
            "31/31 [==============================] - 0s 6ms/step - loss: 0.0080 - accuracy: 0.9967 - val_loss: 7.9848 - val_accuracy: 0.4416\n",
            "Epoch 15/30\n",
            "31/31 [==============================] - 0s 7ms/step - loss: 0.0015 - accuracy: 1.0000 - val_loss: 8.7890 - val_accuracy: 0.4416\n",
            "Epoch 16/30\n",
            "31/31 [==============================] - 0s 6ms/step - loss: 5.6315e-04 - accuracy: 1.0000 - val_loss: 8.6052 - val_accuracy: 0.4416\n",
            "Epoch 17/30\n",
            "31/31 [==============================] - 0s 6ms/step - loss: 6.7473e-04 - accuracy: 1.0000 - val_loss: 8.5597 - val_accuracy: 0.4416\n",
            "Epoch 18/30\n",
            "31/31 [==============================] - 0s 6ms/step - loss: 2.9192e-04 - accuracy: 1.0000 - val_loss: 8.9522 - val_accuracy: 0.4416\n",
            "Epoch 19/30\n",
            "31/31 [==============================] - 0s 6ms/step - loss: 1.7697e-04 - accuracy: 1.0000 - val_loss: 9.0586 - val_accuracy: 0.4416\n",
            "Epoch 20/30\n",
            "31/31 [==============================] - 0s 6ms/step - loss: 2.0598e-04 - accuracy: 1.0000 - val_loss: 9.2497 - val_accuracy: 0.4416\n",
            "Epoch 21/30\n",
            "31/31 [==============================] - 0s 5ms/step - loss: 3.2962e-04 - accuracy: 1.0000 - val_loss: 9.3578 - val_accuracy: 0.4416\n",
            "Epoch 22/30\n",
            "31/31 [==============================] - 0s 6ms/step - loss: 2.0499e-04 - accuracy: 1.0000 - val_loss: 9.4632 - val_accuracy: 0.4416\n",
            "Epoch 23/30\n",
            "31/31 [==============================] - 0s 5ms/step - loss: 1.7515e-04 - accuracy: 1.0000 - val_loss: 9.6647 - val_accuracy: 0.4416\n",
            "Epoch 24/30\n",
            "31/31 [==============================] - 0s 7ms/step - loss: 1.1269e-04 - accuracy: 1.0000 - val_loss: 9.7849 - val_accuracy: 0.4416\n",
            "Epoch 25/30\n",
            "31/31 [==============================] - 0s 5ms/step - loss: 1.2306e-04 - accuracy: 1.0000 - val_loss: 9.7901 - val_accuracy: 0.4416\n",
            "Epoch 26/30\n",
            "31/31 [==============================] - 0s 5ms/step - loss: 1.2425e-04 - accuracy: 1.0000 - val_loss: 10.0287 - val_accuracy: 0.4416\n",
            "Epoch 27/30\n",
            "31/31 [==============================] - 0s 5ms/step - loss: 1.3870e-04 - accuracy: 1.0000 - val_loss: 10.0617 - val_accuracy: 0.4416\n",
            "Epoch 28/30\n",
            "31/31 [==============================] - 0s 5ms/step - loss: 2.7999e-04 - accuracy: 1.0000 - val_loss: 10.2668 - val_accuracy: 0.4416\n",
            "Epoch 29/30\n",
            "31/31 [==============================] - 0s 5ms/step - loss: 1.2862e-04 - accuracy: 1.0000 - val_loss: 10.2695 - val_accuracy: 0.4416\n",
            "Epoch 30/30\n",
            "31/31 [==============================] - 0s 7ms/step - loss: 1.0558e-04 - accuracy: 1.0000 - val_loss: 10.4702 - val_accuracy: 0.4416\n"
          ]
        },
        {
          "output_type": "execute_result",
          "data": {
            "text/plain": [
              "Ellipsis"
            ]
          },
          "metadata": {},
          "execution_count": 22
        }
      ]
    },
    {
      "cell_type": "code",
      "source": [
        "print(model.summary())\n",
        "input_shape=[X_train.shape[1], X_train.shape[2]]\n",
        "print(input_shape)"
      ],
      "metadata": {
        "id": "d7B3cgP2sb3T"
      },
      "execution_count": null,
      "outputs": []
    },
    {
      "cell_type": "code",
      "source": [
        "# evaluate the keras model\n",
        "accuracy = model.evaluate(X_train, y_train)\n",
        "print('Accuracy: %.2f' % (accuracy*100))"
      ],
      "metadata": {
        "colab": {
          "base_uri": "https://localhost:8080/",
          "height": 198
        },
        "id": "5-bzR7SOMTwo",
        "outputId": "f24f0d59-3b78-4620-db0a-168397e6c770"
      },
      "execution_count": null,
      "outputs": [
        {
          "output_type": "error",
          "ename": "NameError",
          "evalue": "ignored",
          "traceback": [
            "\u001b[0;31m---------------------------------------------------------------------------\u001b[0m",
            "\u001b[0;31mNameError\u001b[0m                                 Traceback (most recent call last)",
            "\u001b[0;32m<ipython-input-18-a4d8616cb43a>\u001b[0m in \u001b[0;36m<module>\u001b[0;34m()\u001b[0m\n\u001b[1;32m      1\u001b[0m \u001b[0;31m# evaluate the keras model\u001b[0m\u001b[0;34m\u001b[0m\u001b[0;34m\u001b[0m\u001b[0;34m\u001b[0m\u001b[0m\n\u001b[0;32m----> 2\u001b[0;31m \u001b[0maccuracy\u001b[0m \u001b[0;34m=\u001b[0m \u001b[0mmodel\u001b[0m\u001b[0;34m.\u001b[0m\u001b[0mevaluate\u001b[0m\u001b[0;34m(\u001b[0m\u001b[0mX\u001b[0m\u001b[0;34m,\u001b[0m \u001b[0my\u001b[0m\u001b[0;34m)\u001b[0m\u001b[0;34m\u001b[0m\u001b[0;34m\u001b[0m\u001b[0m\n\u001b[0m\u001b[1;32m      3\u001b[0m \u001b[0mprint\u001b[0m\u001b[0;34m(\u001b[0m\u001b[0;34m'Accuracy: %.2f'\u001b[0m \u001b[0;34m%\u001b[0m \u001b[0;34m(\u001b[0m\u001b[0maccuracy\u001b[0m\u001b[0;34m*\u001b[0m\u001b[0;36m100\u001b[0m\u001b[0;34m)\u001b[0m\u001b[0;34m)\u001b[0m\u001b[0;34m\u001b[0m\u001b[0;34m\u001b[0m\u001b[0m\n",
            "\u001b[0;31mNameError\u001b[0m: name 'X' is not defined"
          ]
        }
      ]
    },
    {
      "cell_type": "code",
      "source": [
        "history = model.fit(\n",
        "    X_train,y_train,\n",
        "    epochs=50,\n",
        "    batch_size=32,\n",
        "    validation_split=0.1,\n",
        "    #shuffle= True\n",
        "    shuffle = False \n",
        ")\n"
      ],
      "metadata": {
        "colab": {
          "base_uri": "https://localhost:8080/"
        },
        "id": "CfiMbmHDAeMp",
        "outputId": "1007d413-099e-40eb-8728-a0d67661740c"
      },
      "execution_count": null,
      "outputs": [
        {
          "output_type": "stream",
          "name": "stdout",
          "text": [
            "Epoch 1/50\n",
            "11/11 [==============================] - 1s 61ms/step - loss: 0.2892 - acc: 0.8909 - val_loss: 1.2057 - val_acc: 0.2703\n",
            "Epoch 2/50\n",
            "11/11 [==============================] - 1s 53ms/step - loss: 0.2759 - acc: 0.9091 - val_loss: 1.0170 - val_acc: 0.4865\n",
            "Epoch 3/50\n",
            "11/11 [==============================] - 1s 50ms/step - loss: 0.3072 - acc: 0.9030 - val_loss: 1.2199 - val_acc: 0.2973\n",
            "Epoch 4/50\n",
            "11/11 [==============================] - 1s 54ms/step - loss: 0.3036 - acc: 0.9061 - val_loss: 1.3594 - val_acc: 0.2432\n",
            "Epoch 5/50\n",
            "11/11 [==============================] - 1s 52ms/step - loss: 0.2620 - acc: 0.9121 - val_loss: 1.1214 - val_acc: 0.3514\n",
            "Epoch 6/50\n",
            "11/11 [==============================] - 1s 51ms/step - loss: 0.2962 - acc: 0.9061 - val_loss: 1.1847 - val_acc: 0.3514\n",
            "Epoch 7/50\n",
            "11/11 [==============================] - 1s 52ms/step - loss: 0.2705 - acc: 0.9152 - val_loss: 1.3536 - val_acc: 0.2703\n",
            "Epoch 8/50\n",
            "11/11 [==============================] - 1s 50ms/step - loss: 0.2753 - acc: 0.9152 - val_loss: 1.2358 - val_acc: 0.2973\n",
            "Epoch 9/50\n",
            "11/11 [==============================] - 1s 51ms/step - loss: 0.2723 - acc: 0.8879 - val_loss: 1.2995 - val_acc: 0.2973\n",
            "Epoch 10/50\n",
            "11/11 [==============================] - 1s 50ms/step - loss: 0.2810 - acc: 0.9091 - val_loss: 1.3925 - val_acc: 0.2703\n",
            "Epoch 11/50\n",
            "11/11 [==============================] - 1s 51ms/step - loss: 0.2757 - acc: 0.9091 - val_loss: 1.4221 - val_acc: 0.2432\n",
            "Epoch 12/50\n",
            "11/11 [==============================] - 1s 48ms/step - loss: 0.2557 - acc: 0.9121 - val_loss: 1.3235 - val_acc: 0.2973\n",
            "Epoch 13/50\n",
            "11/11 [==============================] - 1s 50ms/step - loss: 0.2502 - acc: 0.9091 - val_loss: 1.3552 - val_acc: 0.2973\n",
            "Epoch 14/50\n",
            "11/11 [==============================] - 1s 51ms/step - loss: 0.2701 - acc: 0.9091 - val_loss: 1.3588 - val_acc: 0.2703\n",
            "Epoch 15/50\n",
            "11/11 [==============================] - 1s 49ms/step - loss: 0.2592 - acc: 0.9152 - val_loss: 1.3748 - val_acc: 0.2703\n",
            "Epoch 16/50\n",
            "11/11 [==============================] - 1s 51ms/step - loss: 0.2521 - acc: 0.9152 - val_loss: 1.4679 - val_acc: 0.2432\n",
            "Epoch 17/50\n",
            "11/11 [==============================] - 1s 49ms/step - loss: 0.2500 - acc: 0.9121 - val_loss: 1.5492 - val_acc: 0.2162\n",
            "Epoch 18/50\n",
            "11/11 [==============================] - 1s 50ms/step - loss: 0.2394 - acc: 0.9182 - val_loss: 1.3869 - val_acc: 0.2432\n",
            "Epoch 19/50\n",
            "11/11 [==============================] - 1s 50ms/step - loss: 0.2571 - acc: 0.8970 - val_loss: 1.3443 - val_acc: 0.2432\n",
            "Epoch 20/50\n",
            "11/11 [==============================] - 1s 51ms/step - loss: 0.2566 - acc: 0.9030 - val_loss: 1.5324 - val_acc: 0.2162\n",
            "Epoch 21/50\n",
            "11/11 [==============================] - 1s 51ms/step - loss: 0.2184 - acc: 0.9212 - val_loss: 1.4194 - val_acc: 0.2432\n",
            "Epoch 22/50\n",
            "11/11 [==============================] - 1s 53ms/step - loss: 0.2429 - acc: 0.9212 - val_loss: 1.4050 - val_acc: 0.2432\n",
            "Epoch 23/50\n",
            "11/11 [==============================] - 1s 51ms/step - loss: 0.2296 - acc: 0.9242 - val_loss: 1.3910 - val_acc: 0.2432\n",
            "Epoch 24/50\n",
            "11/11 [==============================] - 1s 50ms/step - loss: 0.2489 - acc: 0.9030 - val_loss: 1.5446 - val_acc: 0.2432\n",
            "Epoch 25/50\n",
            "11/11 [==============================] - 1s 54ms/step - loss: 0.2341 - acc: 0.9121 - val_loss: 1.5547 - val_acc: 0.2432\n",
            "Epoch 26/50\n",
            "11/11 [==============================] - 1s 50ms/step - loss: 0.2366 - acc: 0.9152 - val_loss: 1.3366 - val_acc: 0.2703\n",
            "Epoch 27/50\n",
            "11/11 [==============================] - 1s 51ms/step - loss: 0.2369 - acc: 0.9061 - val_loss: 1.4011 - val_acc: 0.2162\n",
            "Epoch 28/50\n",
            "11/11 [==============================] - 1s 50ms/step - loss: 0.2413 - acc: 0.9152 - val_loss: 1.4104 - val_acc: 0.2162\n",
            "Epoch 29/50\n",
            "11/11 [==============================] - 1s 52ms/step - loss: 0.2293 - acc: 0.9121 - val_loss: 1.3699 - val_acc: 0.2703\n",
            "Epoch 30/50\n",
            "11/11 [==============================] - 1s 50ms/step - loss: 0.2238 - acc: 0.9091 - val_loss: 1.5437 - val_acc: 0.2162\n",
            "Epoch 31/50\n",
            "11/11 [==============================] - 1s 49ms/step - loss: 0.2250 - acc: 0.9091 - val_loss: 1.5176 - val_acc: 0.2162\n",
            "Epoch 32/50\n",
            "11/11 [==============================] - 1s 50ms/step - loss: 0.2051 - acc: 0.9303 - val_loss: 1.3610 - val_acc: 0.2703\n",
            "Epoch 33/50\n",
            "11/11 [==============================] - 1s 51ms/step - loss: 0.2286 - acc: 0.9152 - val_loss: 1.4110 - val_acc: 0.2432\n",
            "Epoch 34/50\n",
            "11/11 [==============================] - 1s 48ms/step - loss: 0.2309 - acc: 0.9121 - val_loss: 1.4887 - val_acc: 0.2162\n",
            "Epoch 35/50\n",
            "11/11 [==============================] - 1s 52ms/step - loss: 0.2161 - acc: 0.9212 - val_loss: 1.4544 - val_acc: 0.2162\n",
            "Epoch 36/50\n",
            "11/11 [==============================] - 1s 51ms/step - loss: 0.2355 - acc: 0.9121 - val_loss: 1.5056 - val_acc: 0.2162\n",
            "Epoch 37/50\n",
            "11/11 [==============================] - 1s 50ms/step - loss: 0.2209 - acc: 0.9152 - val_loss: 1.4196 - val_acc: 0.2162\n",
            "Epoch 38/50\n",
            "11/11 [==============================] - 1s 51ms/step - loss: 0.2135 - acc: 0.9303 - val_loss: 1.4438 - val_acc: 0.1892\n",
            "Epoch 39/50\n",
            "11/11 [==============================] - 1s 52ms/step - loss: 0.2324 - acc: 0.9152 - val_loss: 1.3901 - val_acc: 0.1351\n",
            "Epoch 40/50\n",
            "11/11 [==============================] - 1s 54ms/step - loss: 0.2120 - acc: 0.9212 - val_loss: 1.3384 - val_acc: 0.1622\n",
            "Epoch 41/50\n",
            "11/11 [==============================] - 1s 49ms/step - loss: 0.2398 - acc: 0.9061 - val_loss: 1.4385 - val_acc: 0.1081\n",
            "Epoch 42/50\n",
            "11/11 [==============================] - 1s 52ms/step - loss: 0.2315 - acc: 0.9091 - val_loss: 1.5127 - val_acc: 0.1081\n",
            "Epoch 43/50\n",
            "11/11 [==============================] - 1s 52ms/step - loss: 0.2034 - acc: 0.9121 - val_loss: 1.4014 - val_acc: 0.1081\n",
            "Epoch 44/50\n",
            "11/11 [==============================] - 1s 52ms/step - loss: 0.2196 - acc: 0.9121 - val_loss: 1.3811 - val_acc: 0.1081\n",
            "Epoch 45/50\n",
            "11/11 [==============================] - 1s 49ms/step - loss: 0.2101 - acc: 0.9121 - val_loss: 1.4656 - val_acc: 0.1081\n",
            "Epoch 46/50\n",
            "11/11 [==============================] - 1s 49ms/step - loss: 0.2089 - acc: 0.9182 - val_loss: 1.5130 - val_acc: 0.1081\n",
            "Epoch 47/50\n",
            "11/11 [==============================] - 1s 48ms/step - loss: 0.2108 - acc: 0.9242 - val_loss: 1.3967 - val_acc: 0.1892\n",
            "Epoch 48/50\n",
            "11/11 [==============================] - 1s 48ms/step - loss: 0.2009 - acc: 0.9242 - val_loss: 1.3892 - val_acc: 0.2162\n",
            "Epoch 49/50\n",
            "11/11 [==============================] - 1s 48ms/step - loss: 0.2224 - acc: 0.9212 - val_loss: 1.4141 - val_acc: 0.1351\n",
            "Epoch 50/50\n",
            "11/11 [==============================] - 1s 48ms/step - loss: 0.2147 - acc: 0.9182 - val_loss: 1.4426 - val_acc: 0.1351\n"
          ]
        }
      ]
    },
    {
      "cell_type": "code",
      "source": [
        "#print(y_train)\n",
        "print(X_train.shape)\n",
        "print(y_train.shape)\n",
        "set(y_train[:,0]) # unique value "
      ],
      "metadata": {
        "colab": {
          "base_uri": "https://localhost:8080/"
        },
        "id": "wqheb1bilwP1",
        "outputId": "2acc9a31-de83-4773-c954-47c0c1ee6500"
      },
      "execution_count": null,
      "outputs": [
        {
          "output_type": "stream",
          "name": "stdout",
          "text": [
            "(367, 90, 3)\n",
            "(367, 2)\n"
          ]
        },
        {
          "output_type": "execute_result",
          "data": {
            "text/plain": [
              "{0.0, 1.0}"
            ]
          },
          "metadata": {},
          "execution_count": 77
        }
      ]
    },
    {
      "cell_type": "markdown",
      "source": [
        "# Evaluation"
      ],
      "metadata": {
        "id": "qm_A4QpGAlhu"
      }
    },
    {
      "cell_type": "code",
      "source": [
        "model.evaluate(X_test, y_test)"
      ],
      "metadata": {
        "id": "pezsUnqmAkME"
      },
      "execution_count": null,
      "outputs": []
    }
  ]
}